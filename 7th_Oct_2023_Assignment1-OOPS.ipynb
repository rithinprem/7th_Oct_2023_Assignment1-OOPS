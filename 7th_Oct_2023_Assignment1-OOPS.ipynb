{
 "cells": [
  {
   "cell_type": "markdown",
   "id": "f62428fb-891a-44b7-80cd-97e226bbd0a3",
   "metadata": {},
   "source": [
    "# OOPS"
   ]
  },
  {
   "cell_type": "code",
   "execution_count": 7,
   "id": "3a9bd53d-9224-45f8-b417-b4e90c03cb23",
   "metadata": {},
   "outputs": [
    {
     "name": "stdout",
     "output_type": "stream",
     "text": [
      "Deposited Amount: 1000\n",
      "Balance: Rs 1000\n",
      "Withdrawn Amount: 600\n",
      "Balance: Rs 400\n"
     ]
    }
   ],
   "source": [
    "#Problem 1: Bank Account Create a class representing a bank account with attributes like account number, account holder name, and balance. Implement methods to deposit and withdraw money from the account.\n",
    "\n",
    "class Bank_Account:\n",
    "    def __init__(self,account_no,holder_name,balance=0):\n",
    "        self.account_no = account_no\n",
    "        self.holder_name = holder_name\n",
    "        self.balance = balance\n",
    "        \n",
    "    def deposit(self,amount):\n",
    "        if 0<amount:\n",
    "            self.balance+=amount\n",
    "        print(\"Deposited Amount:\",amount)\n",
    "        print(f\"Balance: Rs {self.balance}\")\n",
    "            \n",
    "    def withdraw(self,amount):\n",
    "        if 0<amount<=self.balance:\n",
    "            self.balance-=amount\n",
    "            print(\"Withdrawn Amount:\",amount)\n",
    "            print(f\"Balance: Rs {self.balance}\")\n",
    "        \n",
    "        elif amount>self.balance:\n",
    "            print(\"Insufficient balance\")\n",
    "        \n",
    "        \n",
    "acc = Bank_Account(account_no='12345',holder_name=\"Rithin\")\n",
    "acc.deposit(1000)\n",
    "acc.withdraw(600)\n",
    "\n",
    "        \n",
    "    "
   ]
  },
  {
   "cell_type": "code",
   "execution_count": 12,
   "id": "3a1f4f88-3bd5-4c95-a7ab-065426f9cd9b",
   "metadata": {},
   "outputs": [
    {
     "name": "stdout",
     "output_type": "stream",
     "text": [
      "Employee_Id:  6701\n",
      "Name:  Rithin\n",
      "Salary:  25000\n",
      "Annual bonus is: 2500.0\n"
     ]
    }
   ],
   "source": [
    "#Problem 2: Employee Management Create a class representing an employee with attributes like employee ID, name, and salary. Implement methods to calculate the yearly bonus and display employee details.\n",
    "\n",
    "class Employee:\n",
    "    def __init__(self,employee_id,name,salary):\n",
    "        self.employee_id = employee_id\n",
    "        self.name = name\n",
    "        self.salary = salary\n",
    "        self.performance_score = 0\n",
    "        \n",
    "    def display_details(self):\n",
    "        print(\"Employee_Id: \",self.employee_id)\n",
    "        print(\"Name: \",self.name)\n",
    "        print(\"Salary: \",self.salary)\n",
    "        \n",
    "    def set_performance_score(self,score):\n",
    "        self.performance_score = score\n",
    "        \n",
    "    def calculate_yearly_bonus(self):\n",
    "        if self.performance_score>=90:\n",
    "            bonus_percentage = 0.1   #10% of salary\n",
    "        \n",
    "        elif self.performance_score>=70:\n",
    "            bonus_percentage = 0.05\n",
    "            \n",
    "        else:bonus_percentage = 0.05\n",
    "        \n",
    "        yearly_bonus = self.salary*bonus_percentage\n",
    "        \n",
    "        return yearly_bonus\n",
    "    \n",
    "\n",
    "e = Employee(employee_id=\"6701\",name=\"Rithin\",salary=25000)\n",
    "e.set_performance_score(95)\n",
    "e.display_details()\n",
    "bonus = e.calculate_yearly_bonus()\n",
    "print(\"Annual bonus is:\",bonus)\n",
    "       \n",
    "    "
   ]
  },
  {
   "cell_type": "code",
   "execution_count": 13,
   "id": "c6a48f42-2b48-416b-8524-9d27b6cea709",
   "metadata": {},
   "outputs": [
    {
     "name": "stdout",
     "output_type": "stream",
     "text": [
      "Available Vehicles:\n",
      "1: Toyota Camry\n",
      "2: Honda Civic\n",
      "Vehicle 1 (Toyota Camry) rented successfully.\n",
      "Available Vehicles:\n",
      "2: Honda Civic\n",
      "Vehicle 1 (Toyota Camry) returned successfully.\n",
      "Available Vehicles:\n",
      "1: Toyota Camry\n",
      "2: Honda Civic\n"
     ]
    }
   ],
   "source": [
    "#Problem 3: Vehicle Rental Create a class representing a vehicle rental system. Implement methods to rent a vehicle, return a vehicle, and display available vehicles.\n",
    "\n",
    "class Vehicle:\n",
    "    def __init__(self, vehicle_id, make, model, is_available=True):\n",
    "        self.vehicle_id = vehicle_id\n",
    "        self.make = make\n",
    "        self.model = model\n",
    "        self.is_available = is_available\n",
    "\n",
    "    def rent_vehicle(self):\n",
    "        if self.is_available:\n",
    "            self.is_available = False\n",
    "            print(f\"Vehicle {self.vehicle_id} ({self.make} {self.model}) rented successfully.\")\n",
    "        else:\n",
    "            print(f\"Vehicle {self.vehicle_id} is not available for rent.\")\n",
    "\n",
    "    def return_vehicle(self):\n",
    "        if not self.is_available:\n",
    "            self.is_available = True\n",
    "            print(f\"Vehicle {self.vehicle_id} ({self.make} {self.model}) returned successfully.\")\n",
    "        else:\n",
    "            print(f\"Vehicle {self.vehicle_id} is already available.\")\n",
    "\n",
    "class VehicleRentalSystem:\n",
    "    def __init__(self):\n",
    "        self.vehicles = []\n",
    "\n",
    "    def add_vehicle(self, vehicle):\n",
    "        self.vehicles.append(vehicle)\n",
    "\n",
    "    def display_available_vehicles(self):\n",
    "        available_vehicles = [vehicle for vehicle in self.vehicles if vehicle.is_available]\n",
    "        if available_vehicles:\n",
    "            print(\"Available Vehicles:\")\n",
    "            for vehicle in available_vehicles:\n",
    "                print(f\"{vehicle.vehicle_id}: {vehicle.make} {vehicle.model}\")\n",
    "        else:\n",
    "            print(\"No vehicles available for rent.\")\n",
    "\n",
    "# Example Usage:\n",
    "vehicle1 = Vehicle(vehicle_id=1, make=\"Toyota\", model=\"Camry\")\n",
    "vehicle2 = Vehicle(vehicle_id=2, make=\"Honda\", model=\"Civic\")\n",
    "\n",
    "rental_system = VehicleRentalSystem()\n",
    "rental_system.add_vehicle(vehicle1)\n",
    "rental_system.add_vehicle(vehicle2)\n",
    "\n",
    "rental_system.display_available_vehicles()\n",
    "\n",
    "vehicle1.rent_vehicle()\n",
    "rental_system.display_available_vehicles()\n",
    "\n",
    "vehicle1.return_vehicle()\n",
    "rental_system.display_available_vehicles()\n"
   ]
  },
  {
   "cell_type": "code",
   "execution_count": 50,
   "id": "d4ed05bb-49c5-4106-bfcb-a9e93355155a",
   "metadata": {},
   "outputs": [
    {
     "name": "stdout",
     "output_type": "stream",
     "text": [
      "Books added successfully \n",
      "\n",
      "Available books are:\n",
      "Id:1 - BookName:Ansci C -By:Balaguruswami\n",
      "Id:2 - BookName:Basics of DNA -By:Dr.Robort\n",
      "\n",
      "Ansci C by Balaguruswami is borrowed\n",
      "Basics of DNA by Dr.Robort is borrowed\n",
      "Basics of Stock Market by Radha kishan is not found\n"
     ]
    },
    {
     "data": {
      "text/plain": [
       "'No books are available'"
      ]
     },
     "execution_count": 50,
     "metadata": {},
     "output_type": "execute_result"
    }
   ],
   "source": [
    "#Problem 4: Library Catalog Create classes representing a library and a book. Implement methods to add books to the library, borrow books, and display available books.\n",
    "\n",
    "class book:\n",
    "    def __init__(self,bookid,bookname,author):\n",
    "        self.bookid = bookid\n",
    "        self.bookname = bookname\n",
    "        self.author = author\n",
    "        self.borrow= False\n",
    "        \n",
    "class Library:\n",
    "    def __init__(self):\n",
    "        self.booklist = []\n",
    "        \n",
    "    def add_book(self,*books):\n",
    "        for book in books:\n",
    "            self.booklist.append(book)\n",
    "        print(\"Books added successfully \\n\")\n",
    "        \n",
    "    def borrow_book(self,*books):\n",
    "        for book in books:\n",
    "            if book in self.booklist:\n",
    "                if book.borrow==False:\n",
    "                    book.borrow=True\n",
    "                    print(f\"{book.bookname} by {book.author} is borrowed\")\n",
    "                \n",
    "                else:\n",
    "                    print(\"Book is already borrowed\")\n",
    "            else:\n",
    "                print(f\"{book.bookname} by {book.author} is not found\")\n",
    "\n",
    "    def diplay_books(self):\n",
    "        book_list = [book for book in self.booklist if book.borrow==False]\n",
    "        if not book_list:\n",
    "            return \"No books are available\"\n",
    "        print(\"Available books are:\")\n",
    "        for book in book_list:\n",
    "            print(f\"Id:{book.bookid} - BookName:{book.bookname} -By:{book.author}\")\n",
    "        print()\n",
    "                  \n",
    "                  \n",
    "\n",
    "Lib = Library() \n",
    "book1 = book(1,\"Ansci C\",\"Balaguruswami\")\n",
    "book2 = book(2,\"Basics of DNA\",\"Dr.Robort\")\n",
    "book3 = book(3,\"Basics of Stock Market\",\"Radha kishan\")\n",
    "Lib.add_book(book1,book2)\n",
    "Lib.diplay_books()\n",
    "Lib.borrow_book(book1,book2,book3)\n",
    "Lib.diplay_books()"
   ]
  },
  {
   "cell_type": "code",
   "execution_count": 69,
   "id": "d67d2c4e-35b1-47ae-a554-45226b160ccf",
   "metadata": {},
   "outputs": [
    {
     "name": "stdout",
     "output_type": "stream",
     "text": [
      "To add products pass in tuple ie. (product,quantity)\n",
      "Id: 1  Name:Nuts  Product-type:Repairs - Product-Quantity:10\n",
      "Id: 2  Name:Bolts  Product-type:Repairs - Product-Quantity:10\n",
      "Nuts's Quantity is updated\n",
      "Id: 1  Name:Nuts  Product-type:Repairs - Product-Quantity:30\n",
      "Id: 2  Name:Bolts  Product-type:Repairs - Product-Quantity:10\n"
     ]
    }
   ],
   "source": [
    "#Problem 5: Product Inventory Create classes representing a product and an inventory system. Implement methods to add products to the inventory, update product quantity, and display available products.\n",
    "\n",
    "class product:\n",
    "    def __init__(self,product_id,name,product_type):\n",
    "        self.product_id = product_id\n",
    "        self.name= name\n",
    "        self.product_type = product_type\n",
    "        self.quantity = 0\n",
    "        \n",
    "class inventory_system:\n",
    "    def __init__(self):\n",
    "        self.product_list = []\n",
    "        print(\"To add products pass in tuple ie. (product,quantity)\")\n",
    "        \n",
    "    def add_product(self,*products):\n",
    "        for product in products:\n",
    "            if product[0] in self.product_list:\n",
    "                product[0].quantity+=product[1]\n",
    "                print(f\"{product[0].name}'s Quantity is updated\")\n",
    "            else:\n",
    "                self.product_list.append(product[0])\n",
    "                product[0].quantity+=product[1]\n",
    "                \n",
    "    def display_available(self):\n",
    "        if not self.product_list:\n",
    "            return \"Inventory is empty\"\n",
    "        list_ = [product for product in self.product_list]\n",
    "        for product in list_:\n",
    "            print(f\"Id: {product.product_id}  Name:{product.name}  Product-type:{product.product_type} - Product-Quantity:{product.quantity}\")\n",
    "\n",
    "            \n",
    "            \n",
    "product1 = product(product_id=1,name=\"Nuts\",product_type=\"Repairs\")\n",
    "product2 = product(product_id=2,name=\"Bolts\",product_type=\"Repairs\")\n",
    "inventory = inventory_system()\n",
    "inventory.add_product((product1,10),(product2,10))\n",
    "inventory.display_available()\n",
    "inventory.add_product((product1,20))\n",
    "inventory.display_available()\n"
   ]
  },
  {
   "cell_type": "code",
   "execution_count": 11,
   "id": "f7d9ca22-c120-4a14-ab14-9764c0795295",
   "metadata": {},
   "outputs": [
    {
     "name": "stdout",
     "output_type": "stream",
     "text": [
      "Total area of shape: 600 sq units\n",
      "Total perimeter of shape: 120 units\n"
     ]
    }
   ],
   "source": [
    "#Problem 6: Shape Calculation Create a class representing a shape with attributes like length, width, and height. Implement methods to calculate the area and perimeter of the shape.\n",
    "\n",
    "class Shape:\n",
    "    def __init__(self, length, breadth, height):\n",
    "        self.length = length\n",
    "        self.breadth = breadth\n",
    "        self.height = height\n",
    "\n",
    "    def calculate_area(self):\n",
    "        total_area = 2 * (self.length * self.breadth + self.breadth * self.height + self.height * self.length)\n",
    "        return f\"Total area of shape: {total_area} sq units\"\n",
    "\n",
    "    def calculate_perimeter(self):\n",
    "        total_perimeter = 4 * (self.length + self.breadth + self.height)\n",
    "        return f\"Total perimeter of shape: {total_perimeter} units\"\n",
    "\n",
    "shape1 = Shape(length=10, breadth=10, height=10)\n",
    "print(shape1.calculate_area())\n",
    "print(shape1.calculate_perimeter())\n",
    "\n",
    "\n",
    "\n",
    "        "
   ]
  },
  {
   "cell_type": "code",
   "execution_count": 26,
   "id": "3b4e2aff-3939-4a76-b390-29c36afc6b96",
   "metadata": {},
   "outputs": [
    {
     "name": "stdout",
     "output_type": "stream",
     "text": [
      "Id:1, Student Name:Rithin, Grades:{'sem1': 9, 'sem2': 10, 'sem3': 8.5, 'sem4': 10}\n",
      "Average grade is : 9.375 CGPA\n"
     ]
    }
   ],
   "source": [
    "#Problem 7: Student Management Create a class representing a student with attributes like student ID, name, and grades. Implement methods to calculate the average grade and display student details.\n",
    "\n",
    "class student:\n",
    "    def __init__(self,student_id,name,grades):\n",
    "        self.student_id=student_id\n",
    "        self.name = name\n",
    "        self.grades = grades\n",
    "        \n",
    "    def display_details(self):\n",
    "        print(f\"Id:{self.student_id}, Student Name:{self.name}, Grades:{self.grades}\")\n",
    "        \n",
    "    def calculate_avg_grades(self):\n",
    "        total = 0\n",
    "        for key,value in self.grades.items():\n",
    "            total+=value\n",
    "        average = total/len(self.grades.items())\n",
    "        \n",
    "        print(f\"Average grade is : {average} CGPA\")\n",
    "            \n",
    "        \n",
    "        \n",
    "student1 = student(student_id=1,name=\"Rithin\",grades={\"sem1\":9,\"sem2\":10,\"sem3\":8.5,\"sem4\":10})\n",
    "student1.display_details()\n",
    "student1.calculate_avg_grades()\n"
   ]
  },
  {
   "cell_type": "code",
   "execution_count": 30,
   "id": "e994a3d9-7962-48d6-8395-5a5db6e6e945",
   "metadata": {},
   "outputs": [
    {
     "name": "stdout",
     "output_type": "stream",
     "text": [
      " Email Details:\n",
      "                   Sender- rithin@gmail.com\n",
      "                   Recipient- pwskills@pw.live\n",
      "                   Subject- Query \n",
      "\n",
      "Email is sending...to pwskills@pw.live\n",
      "Email is sent\n"
     ]
    }
   ],
   "source": [
    "#Problem 8: Email Management Create a class representing an email with attributes like sender, recipient, and subject. Implement methods to send an email and display email details.\n",
    "\n",
    "class email:\n",
    "    def __init__(self,sender,recipient,subject):\n",
    "        self.sender=sender\n",
    "        self.recipient=recipient\n",
    "        self.subject=subject\n",
    "        \n",
    "    def display_email_details(self):\n",
    "        print(f\"\"\" Email Details:\n",
    "                   Sender- {self.sender}\n",
    "                   Recipient- {self.recipient}\n",
    "                   Subject- {self.subject} \\n\"\"\")\n",
    "    \n",
    "    def send_email(self):\n",
    "        print(f\"Email is sending...to {self.recipient}\")\n",
    "        print(\"Email is sent\")\n",
    "        \n",
    "email1 = email(sender=\"rithin@gmail.com\",recipient=\"pwskills@pw.live\",subject=\"Query\")\n",
    "email1.display_email_details()\n",
    "email1.send_email()"
   ]
  },
  {
   "cell_type": "code",
   "execution_count": 50,
   "id": "0e660aa0-f5e8-4cfc-bae1-87601ec8fd73",
   "metadata": {},
   "outputs": [
    {
     "name": "stdout",
     "output_type": "stream",
     "text": [
      "Posts of username RD are:\n",
      "\n",
      "1) Hi, this is my third post      Wed Dec  6 15:11:31 2023\n",
      "2) Hi, this is my second post      Wed Dec  6 15:11:30 2023\n",
      "3) Hi, this is my first post      Wed Dec  6 15:11:29 2023\n",
      "\n",
      "Post By Search:\n",
      "Hi, this is my third post      Wed Dec  6 15:11:31 2023\n"
     ]
    }
   ],
   "source": [
    "#Problem 9: Social Media Profile Create a class representing a social media profile with attributes like username and posts. Implement methods to add posts, display posts, and search for posts by keyword.\n",
    "\n",
    "import time\n",
    "\n",
    "class social_media_profile:\n",
    "    def __init__(self,username):\n",
    "        self.username=username\n",
    "        self.posts=[]\n",
    "        \n",
    "    def add_post(self,*posts):\n",
    "        for post in posts:\n",
    "            self.posts.insert(0,str(post)+ \" \" + \"     \"+ str(time.ctime(time.time())))\n",
    "    \n",
    "    def display_post(self):\n",
    "        print(f\"Posts of username {self.username} are:\\n\")\n",
    "        for i,post in enumerate(self.posts,start=1):\n",
    "            print(f\"{i}) {post}\")\n",
    "            i+=1\n",
    "        print()\n",
    "            \n",
    "    def searchByKeyword(self,keyword):\n",
    "        print(\"Post By Search:\")\n",
    "        for post in self.posts:\n",
    "            if str(keyword) in post:\n",
    "                print(post)\n",
    "                    \n",
    "            \n",
    "profile =social_media_profile(username=\"RD\")\n",
    "profile.add_post((\"Hi, this is my first post\"))\n",
    "time.sleep(1)\n",
    "profile.add_post((\"Hi, this is my second post\"))\n",
    "time.sleep(1)\n",
    "profile.add_post((\"Hi, this is my third post\"))\n",
    "profile.display_post()\n",
    "profile.searchByKeyword(\"third\")"
   ]
  },
  {
   "cell_type": "code",
   "execution_count": 59,
   "id": "89f92de0-f78d-4318-a6a0-6c301669fe1e",
   "metadata": {},
   "outputs": [
    {
     "name": "stdout",
     "output_type": "stream",
     "text": [
      "Task with task id- 1 is completed\n",
      "{'Task': 'Meeting teacher', 'Task_id': 2, 'Due_Date': '07-12-2023', 'Completed': False}\n"
     ]
    }
   ],
   "source": [
    "#Problem 10: ToDo List Create a class representing a ToDo list with attributes like tasks and due dates. Implement methods to add tasks, mark tasks as completed, and display pending tasks.\n",
    "\n",
    "class ToDo:\n",
    "    def __init__(self):\n",
    "        self.tasks = []\n",
    "    \n",
    "    def add_task(self,task_id,task,due_date):\n",
    "        self.tasks.append({\"Task\":task,\"Task_id\":task_id,\"Due_Date\":due_date,\"Completed\":False})\n",
    "        \n",
    "    def mark_task_completed(self,task_id):\n",
    "        for t in self.tasks:\n",
    "            if t[\"Task_id\"]==task_id:\n",
    "                t[\"Completed\"]=True\n",
    "                print(f\"Task with task id- {task_id} is completed\")\n",
    "                return\n",
    "        print(\"Task is not found\")\n",
    "        \n",
    "    def display_pending_task(self):\n",
    "        for t in self.tasks:\n",
    "            if t[\"Completed\"]==False:\n",
    "                print(t)\n",
    "                \n",
    "                \n",
    "todo = ToDo()\n",
    "todo.add_task(task_id = 1,task=\"Watch kdrama\",due_date=\"06-12-2023\")\n",
    "todo.add_task(task_id = 2,task=\"Meeting teacher\",due_date=\"07-12-2023\")\n",
    "todo.mark_task_completed(1)\n",
    "todo.display_pending_task()\n",
    "\n",
    "\n",
    "        "
   ]
  }
 ],
 "metadata": {
  "kernelspec": {
   "display_name": "Python 3 (ipykernel)",
   "language": "python",
   "name": "python3"
  },
  "language_info": {
   "codemirror_mode": {
    "name": "ipython",
    "version": 3
   },
   "file_extension": ".py",
   "mimetype": "text/x-python",
   "name": "python",
   "nbconvert_exporter": "python",
   "pygments_lexer": "ipython3",
   "version": "3.10.8"
  }
 },
 "nbformat": 4,
 "nbformat_minor": 5
}
